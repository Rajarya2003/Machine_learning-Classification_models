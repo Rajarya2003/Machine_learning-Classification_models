{
 "cells": [
  {
   "cell_type": "markdown",
   "id": "ed1cb300-dfb3-45b0-9694-414019fce3ae",
   "metadata": {},
   "source": [
    "# Steps.\n",
    "- 1 . Preprocess + EDA + feature Selection.\n",
    "- 2 . Extraction input and output cols.\n",
    "- 3 . Scale the values.\n",
    "- 4 . Train test split.\n",
    "- 5 . Train the model.\n",
    "- 6 . Evaluate the model/model selection.\n",
    "- 7 . Deploy the model."
   ]
  },
  {
   "cell_type": "code",
   "execution_count": 1,
   "id": "36c2ce1c-e227-4319-801e-d744f02577b9",
   "metadata": {},
   "outputs": [
    {
     "data": {
      "text/html": [
       "<div>\n",
       "<style scoped>\n",
       "    .dataframe tbody tr th:only-of-type {\n",
       "        vertical-align: middle;\n",
       "    }\n",
       "\n",
       "    .dataframe tbody tr th {\n",
       "        vertical-align: top;\n",
       "    }\n",
       "\n",
       "    .dataframe thead th {\n",
       "        text-align: right;\n",
       "    }\n",
       "</style>\n",
       "<table border=\"1\" class=\"dataframe\">\n",
       "  <thead>\n",
       "    <tr style=\"text-align: right;\">\n",
       "      <th></th>\n",
       "      <th>Unnamed: 0</th>\n",
       "      <th>cgpa</th>\n",
       "      <th>iq</th>\n",
       "      <th>placement</th>\n",
       "    </tr>\n",
       "  </thead>\n",
       "  <tbody>\n",
       "    <tr>\n",
       "      <th>0</th>\n",
       "      <td>0</td>\n",
       "      <td>6.8</td>\n",
       "      <td>123.0</td>\n",
       "      <td>1</td>\n",
       "    </tr>\n",
       "    <tr>\n",
       "      <th>1</th>\n",
       "      <td>1</td>\n",
       "      <td>5.9</td>\n",
       "      <td>106.0</td>\n",
       "      <td>0</td>\n",
       "    </tr>\n",
       "    <tr>\n",
       "      <th>2</th>\n",
       "      <td>2</td>\n",
       "      <td>5.3</td>\n",
       "      <td>121.0</td>\n",
       "      <td>0</td>\n",
       "    </tr>\n",
       "    <tr>\n",
       "      <th>3</th>\n",
       "      <td>3</td>\n",
       "      <td>7.4</td>\n",
       "      <td>132.0</td>\n",
       "      <td>1</td>\n",
       "    </tr>\n",
       "    <tr>\n",
       "      <th>4</th>\n",
       "      <td>4</td>\n",
       "      <td>5.8</td>\n",
       "      <td>142.0</td>\n",
       "      <td>0</td>\n",
       "    </tr>\n",
       "  </tbody>\n",
       "</table>\n",
       "</div>"
      ],
      "text/plain": [
       "   Unnamed: 0  cgpa     iq  placement\n",
       "0           0   6.8  123.0          1\n",
       "1           1   5.9  106.0          0\n",
       "2           2   5.3  121.0          0\n",
       "3           3   7.4  132.0          1\n",
       "4           4   5.8  142.0          0"
      ]
     },
     "execution_count": 1,
     "metadata": {},
     "output_type": "execute_result"
    }
   ],
   "source": [
    "import pandas as pd\n",
    "import numpy as np\n",
    "import matplotlib.pyplot as plt\n",
    "import seaborn as sns\n",
    "\n",
    "df =pd.read_csv(\"placement.csv\")\n",
    "df.head()"
   ]
  },
  {
   "cell_type": "code",
   "execution_count": 2,
   "id": "960e0ddb-e1da-4964-b10c-d5313688b652",
   "metadata": {},
   "outputs": [
    {
     "name": "stdout",
     "output_type": "stream",
     "text": [
      "<class 'pandas.core.frame.DataFrame'>\n",
      "RangeIndex: 100 entries, 0 to 99\n",
      "Data columns (total 4 columns):\n",
      " #   Column      Non-Null Count  Dtype  \n",
      "---  ------      --------------  -----  \n",
      " 0   Unnamed: 0  100 non-null    int64  \n",
      " 1   cgpa        100 non-null    float64\n",
      " 2   iq          100 non-null    float64\n",
      " 3   placement   100 non-null    int64  \n",
      "dtypes: float64(2), int64(2)\n",
      "memory usage: 3.3 KB\n"
     ]
    }
   ],
   "source": [
    "df.info()"
   ]
  },
  {
   "cell_type": "code",
   "execution_count": 3,
   "id": "da5fe21b-a0e9-4fa5-8dc0-11e2b82fa0f0",
   "metadata": {},
   "outputs": [
    {
     "data": {
      "text/plain": [
       "(100, 4)"
      ]
     },
     "execution_count": 3,
     "metadata": {},
     "output_type": "execute_result"
    }
   ],
   "source": [
    "df.shape   # 100 rows and 4 features."
   ]
  },
  {
   "cell_type": "code",
   "execution_count": 4,
   "id": "25a7df10-9539-475c-9693-923071d1586e",
   "metadata": {},
   "outputs": [],
   "source": [
    "df  = df.iloc[:,1:]  # Remove the unnamed column."
   ]
  },
  {
   "cell_type": "code",
   "execution_count": 5,
   "id": "b6b387d2-91b6-4dc8-a6f3-5f63ab7d44a4",
   "metadata": {},
   "outputs": [
    {
     "data": {
      "text/html": [
       "<div>\n",
       "<style scoped>\n",
       "    .dataframe tbody tr th:only-of-type {\n",
       "        vertical-align: middle;\n",
       "    }\n",
       "\n",
       "    .dataframe tbody tr th {\n",
       "        vertical-align: top;\n",
       "    }\n",
       "\n",
       "    .dataframe thead th {\n",
       "        text-align: right;\n",
       "    }\n",
       "</style>\n",
       "<table border=\"1\" class=\"dataframe\">\n",
       "  <thead>\n",
       "    <tr style=\"text-align: right;\">\n",
       "      <th></th>\n",
       "      <th>cgpa</th>\n",
       "      <th>iq</th>\n",
       "      <th>placement</th>\n",
       "    </tr>\n",
       "  </thead>\n",
       "  <tbody>\n",
       "    <tr>\n",
       "      <th>0</th>\n",
       "      <td>6.8</td>\n",
       "      <td>123.0</td>\n",
       "      <td>1</td>\n",
       "    </tr>\n",
       "    <tr>\n",
       "      <th>1</th>\n",
       "      <td>5.9</td>\n",
       "      <td>106.0</td>\n",
       "      <td>0</td>\n",
       "    </tr>\n",
       "    <tr>\n",
       "      <th>2</th>\n",
       "      <td>5.3</td>\n",
       "      <td>121.0</td>\n",
       "      <td>0</td>\n",
       "    </tr>\n",
       "    <tr>\n",
       "      <th>3</th>\n",
       "      <td>7.4</td>\n",
       "      <td>132.0</td>\n",
       "      <td>1</td>\n",
       "    </tr>\n",
       "    <tr>\n",
       "      <th>4</th>\n",
       "      <td>5.8</td>\n",
       "      <td>142.0</td>\n",
       "      <td>0</td>\n",
       "    </tr>\n",
       "  </tbody>\n",
       "</table>\n",
       "</div>"
      ],
      "text/plain": [
       "   cgpa     iq  placement\n",
       "0   6.8  123.0          1\n",
       "1   5.9  106.0          0\n",
       "2   5.3  121.0          0\n",
       "3   7.4  132.0          1\n",
       "4   5.8  142.0          0"
      ]
     },
     "execution_count": 5,
     "metadata": {},
     "output_type": "execute_result"
    }
   ],
   "source": [
    "df.head()"
   ]
  },
  {
   "cell_type": "code",
   "execution_count": 6,
   "id": "69affefd-85fc-4c34-a98e-08cca7f9265a",
   "metadata": {},
   "outputs": [
    {
     "data": {
      "text/plain": [
       "cgpa         0\n",
       "iq           0\n",
       "placement    0\n",
       "dtype: int64"
      ]
     },
     "execution_count": 6,
     "metadata": {},
     "output_type": "execute_result"
    }
   ],
   "source": [
    "df.isnull().sum()   # no null values are present."
   ]
  },
  {
   "cell_type": "code",
   "execution_count": 7,
   "id": "715dca6b-0077-42a2-a6f1-e9d6318e9cb3",
   "metadata": {},
   "outputs": [
    {
     "data": {
      "text/html": [
       "<div>\n",
       "<style scoped>\n",
       "    .dataframe tbody tr th:only-of-type {\n",
       "        vertical-align: middle;\n",
       "    }\n",
       "\n",
       "    .dataframe tbody tr th {\n",
       "        vertical-align: top;\n",
       "    }\n",
       "\n",
       "    .dataframe thead th {\n",
       "        text-align: right;\n",
       "    }\n",
       "</style>\n",
       "<table border=\"1\" class=\"dataframe\">\n",
       "  <thead>\n",
       "    <tr style=\"text-align: right;\">\n",
       "      <th></th>\n",
       "      <th>cgpa</th>\n",
       "      <th>iq</th>\n",
       "      <th>placement</th>\n",
       "    </tr>\n",
       "  </thead>\n",
       "  <tbody>\n",
       "    <tr>\n",
       "      <th>count</th>\n",
       "      <td>100.000000</td>\n",
       "      <td>100.000000</td>\n",
       "      <td>100.000000</td>\n",
       "    </tr>\n",
       "    <tr>\n",
       "      <th>mean</th>\n",
       "      <td>5.991000</td>\n",
       "      <td>123.580000</td>\n",
       "      <td>0.500000</td>\n",
       "    </tr>\n",
       "    <tr>\n",
       "      <th>std</th>\n",
       "      <td>1.143634</td>\n",
       "      <td>39.944198</td>\n",
       "      <td>0.502519</td>\n",
       "    </tr>\n",
       "    <tr>\n",
       "      <th>min</th>\n",
       "      <td>3.300000</td>\n",
       "      <td>37.000000</td>\n",
       "      <td>0.000000</td>\n",
       "    </tr>\n",
       "    <tr>\n",
       "      <th>25%</th>\n",
       "      <td>5.075000</td>\n",
       "      <td>101.500000</td>\n",
       "      <td>0.000000</td>\n",
       "    </tr>\n",
       "    <tr>\n",
       "      <th>50%</th>\n",
       "      <td>6.000000</td>\n",
       "      <td>127.500000</td>\n",
       "      <td>0.500000</td>\n",
       "    </tr>\n",
       "    <tr>\n",
       "      <th>75%</th>\n",
       "      <td>6.900000</td>\n",
       "      <td>149.000000</td>\n",
       "      <td>1.000000</td>\n",
       "    </tr>\n",
       "    <tr>\n",
       "      <th>max</th>\n",
       "      <td>8.500000</td>\n",
       "      <td>233.000000</td>\n",
       "      <td>1.000000</td>\n",
       "    </tr>\n",
       "  </tbody>\n",
       "</table>\n",
       "</div>"
      ],
      "text/plain": [
       "             cgpa          iq   placement\n",
       "count  100.000000  100.000000  100.000000\n",
       "mean     5.991000  123.580000    0.500000\n",
       "std      1.143634   39.944198    0.502519\n",
       "min      3.300000   37.000000    0.000000\n",
       "25%      5.075000  101.500000    0.000000\n",
       "50%      6.000000  127.500000    0.500000\n",
       "75%      6.900000  149.000000    1.000000\n",
       "max      8.500000  233.000000    1.000000"
      ]
     },
     "execution_count": 7,
     "metadata": {},
     "output_type": "execute_result"
    }
   ],
   "source": [
    "df.describe()"
   ]
  },
  {
   "cell_type": "markdown",
   "id": "881e69d4-6e44-41b8-ba45-b560c8ca7c9e",
   "metadata": {},
   "source": [
    "# features.\n",
    "\n",
    "- **Numerical feature** = 1.cgpa , 2.iq\n",
    "- **Categorical feature** = 1. placement"
   ]
  },
  {
   "cell_type": "markdown",
   "id": "947e733b-9cb1-421c-924b-87aebd1fb739",
   "metadata": {},
   "source": [
    "# Univariate analysis."
   ]
  },
  {
   "cell_type": "markdown",
   "id": "02b9adb1-697a-4ae3-9534-89d1cd01ce19",
   "metadata": {},
   "source": [
    "# cgpa.\n",
    "\n",
    "- **Insights**\n",
    "- Average cgpa is 5.99.\n",
    "- According to histogram the data was normally distributed it means cgpa is close to mean\n",
    "  \n",
    "- **Preprocessing**\n",
    "-  no outliers are present."
   ]
  },
  {
   "cell_type": "code",
   "execution_count": 8,
   "id": "3baff6ca-5ffa-4d1a-b072-fe0c1fe0d4e8",
   "metadata": {},
   "outputs": [
    {
     "data": {
      "text/plain": [
       "count    100.000000\n",
       "mean       5.991000\n",
       "std        1.143634\n",
       "min        3.300000\n",
       "25%        5.075000\n",
       "50%        6.000000\n",
       "75%        6.900000\n",
       "max        8.500000\n",
       "Name: cgpa, dtype: float64"
      ]
     },
     "execution_count": 8,
     "metadata": {},
     "output_type": "execute_result"
    }
   ],
   "source": [
    "df['cgpa'].describe()  # Average cgpa is 5.99"
   ]
  },
  {
   "cell_type": "code",
   "execution_count": 9,
   "id": "5a616176-2f38-4e0b-be42-6205aae75886",
   "metadata": {},
   "outputs": [
    {
     "data": {
      "image/png": "[encoded data removed]",
      "text/plain": [
       "<Figure size 500x300 with 1 Axes>"
      ]
     },
     "metadata": {},
     "output_type": "display_data"
    }
   ],
   "source": [
    "plt.figure(figsize=(5,3))\n",
    "sns.histplot(df['cgpa'],kde=True)\n",
    "plt.show()"
   ]
  },
  {
   "cell_type": "markdown",
   "id": "3882ef9b-2a78-4ec8-a884-ef98eafa0b4a",
   "metadata": {},
   "source": [
    "- According to histogram the data was normally distributed it means cgpa is close to mean ."
   ]
  },
  {
   "cell_type": "code",
   "execution_count": 10,
   "id": "cfef2df0-d463-4713-973d-2c4c486acc8e",
   "metadata": {},
   "outputs": [
    {
     "data": {
      "text/plain": [
       "-0.0006954038546357086"
      ]
     },
     "execution_count": 10,
     "metadata": {},
     "output_type": "execute_result"
    }
   ],
   "source": [
    "df['cgpa'].skew()       "
   ]
  },
  {
   "cell_type": "code",
   "execution_count": 11,
   "id": "0d109179-eaca-42af-970f-e812dbf917cc",
   "metadata": {},
   "outputs": [
    {
     "data": {
      "image/png": "[encoded data removed]",
      "text/plain": [
       "<Figure size 500x300 with 1 Axes>"
      ]
     },
     "metadata": {},
     "output_type": "display_data"
    }
   ],
   "source": [
    "plt.figure(figsize=(5,3))     # no outliers are present.\n",
    "sns.boxplot(df['cgpa'])\n",
    "plt.show()"
   ]
  },
  {
   "cell_type": "markdown",
   "id": "a561a1de-ccb8-4604-a7af-a99259781245",
   "metadata": {},
   "source": [
    "# iq\n",
    "\n",
    "- **Insights**\n",
    "- Average IQ is 123.58.\n",
    "- According to histogram the data was normally distributed it means iq is close to mean.\n",
    "- some minor  outliers are present but we can remove this beacuse we have small dataset."
   ]
  },
  {
   "cell_type": "code",
   "execution_count": 12,
   "id": "5e54e2a9-b2b7-449f-be97-13988073ca22",
   "metadata": {},
   "outputs": [
    {
     "data": {
      "text/plain": [
       "count    100.000000\n",
       "mean     123.580000\n",
       "std       39.944198\n",
       "min       37.000000\n",
       "25%      101.500000\n",
       "50%      127.500000\n",
       "75%      149.000000\n",
       "max      233.000000\n",
       "Name: iq, dtype: float64"
      ]
     },
     "execution_count": 12,
     "metadata": {},
     "output_type": "execute_result"
    }
   ],
   "source": [
    "df['iq'].describe()   # Average IQ is 123.58"
   ]
  },
  {
   "cell_type": "code",
   "execution_count": 13,
   "id": "1b628232-d938-4b09-8580-cc9f8106c81f",
   "metadata": {},
   "outputs": [
    {
     "data": {
      "image/png": "[encoded data removed]",
      "text/plain": [
       "<Figure size 500x300 with 1 Axes>"
      ]
     },
     "metadata": {},
     "output_type": "display_data"
    }
   ],
   "source": [
    "plt.figure(figsize=(5,3))\n",
    "sns.histplot(df['iq'],kde=True)\n",
    "plt.show()"
   ]
  },
  {
   "cell_type": "markdown",
   "id": "b3e295f6-529a-45ca-b20e-7b5ce5b60de3",
   "metadata": {},
   "source": [
    "- According to histogram the data was normally distributed it means iq is close to mean."
   ]
  },
  {
   "cell_type": "code",
   "execution_count": 14,
   "id": "37dfbda4-6ba7-41d3-8fb1-7fafb82da940",
   "metadata": {},
   "outputs": [
    {
     "data": {
      "image/png": "[encoded data removed]",
      "text/plain": [
       "<Figure size 500x300 with 1 Axes>"
      ]
     },
     "metadata": {},
     "output_type": "display_data"
    }
   ],
   "source": [
    "plt.figure(figsize=(5,3))     # some minor  outliers are present but we can remove this beacuse we have small dataset.\n",
    "sns.boxplot(df['iq'])\n",
    "plt.show()"
   ]
  },
  {
   "cell_type": "markdown",
   "id": "2a03b47c-0f5d-468a-81c4-d308d1d630f2",
   "metadata": {},
   "source": [
    "# placement.\n",
    "\n",
    "- **Insights**\n",
    "- 50% students are get placement and rest of 50 % not get a placement.\n",
    "\n",
    "- **Preprocessing**"
   ]
  },
  {
   "cell_type": "code",
   "execution_count": 35,
   "id": "e9e202bf-847e-4346-b15b-c2b7eeb0be07",
   "metadata": {},
   "outputs": [
    {
     "data": {
      "text/plain": [
       "placement\n",
       "1    50\n",
       "0    50\n",
       "Name: count, dtype: int64"
      ]
     },
     "execution_count": 35,
     "metadata": {},
     "output_type": "execute_result"
    }
   ],
   "source": [
    "count = df['placement'].value_counts()  # 50% students are get placement and rest of 50 % not get a placement.\n",
    "count"
   ]
  },
  {
   "cell_type": "code",
   "execution_count": 38,
   "id": "e9940820-7f97-4fca-bb7b-8021f3ebf106",
   "metadata": {},
   "outputs": [
    {
     "data": {
      "image/png": "[encoded data removed]",
      "text/plain": [
       "<Figure size 500x300 with 1 Axes>"
      ]
     },
     "metadata": {},
     "output_type": "display_data"
    }
   ],
   "source": [
    "plt.figure(figsize=(5,3))\n",
    "sns.barplot(count)\n",
    "plt.show()"
   ]
  },
  {
   "cell_type": "markdown",
   "id": "24c90944-4ccd-4cdf-8bf1-58e0d0b9ff3c",
   "metadata": {},
   "source": [
    "# Bivariate analysis.\n",
    "- My target variable is placement."
   ]
  },
  {
   "cell_type": "markdown",
   "id": "ca0ee187-243e-4fbe-a49a-102b7eb18467",
   "metadata": {},
   "source": [
    "# Placement and cgpa.\n",
    "\n",
    "- **Insights**\n",
    "- if you have a cgpa of 6 so you have higher chances to be placed. "
   ]
  },
  {
   "cell_type": "code",
   "execution_count": 40,
   "id": "9eb42160-b216-4b48-b974-3dab90e89e53",
   "metadata": {},
   "outputs": [
    {
     "data": {
      "image/png": "[encoded data removed]",
      "text/plain": [
       "<Figure size 500x300 with 1 Axes>"
      ]
     },
     "metadata": {},
     "output_type": "display_data"
    }
   ],
   "source": [
    "plt.figure(figsize=(5,3))\n",
    "sns.boxplot(x='placement', y='cgpa', data=df)\n",
    "plt.title('Box Plot of Numerical Variable by Categorical Variable')\n",
    "plt.show()"
   ]
  },
  {
   "cell_type": "markdown",
   "id": "6aa4b0fb-4d07-4b5a-95bb-386552486586",
   "metadata": {},
   "source": [
    "- There is a clear difference in CGPA between students who got placed and those who did not, with placed students having higher CGPAs.\n",
    "- The spread of CGPA is more concentrated for students who did not get placed, whereas placed students show a wider range of CGPAs but generally higher values.\n",
    "- The presence of outliers in the non-placed category suggests that some students with lower CGPAs still managed to avoid placement."
   ]
  },
  {
   "cell_type": "markdown",
   "id": "ac59d46f-fb6b-47f2-a65f-3ee9946e67ec",
   "metadata": {},
   "source": [
    "# placement and iq.\n",
    "\n",
    "- **Insights**\n",
    "- There is little to no difference in the median IQ scores between students who got placed and those who did not, indicating that IQ might not be a significant factor in placement outcomes."
   ]
  },
  {
   "cell_type": "code",
   "execution_count": 43,
   "id": "3c62ca56-d269-48ac-a2c9-a91b9b0de218",
   "metadata": {},
   "outputs": [
    {
     "data": {
      "image/png": "[encoded data removed]",
      "text/plain": [
       "<Figure size 500x300 with 1 Axes>"
      ]
     },
     "metadata": {},
     "output_type": "display_data"
    }
   ],
   "source": [
    "plt.figure(figsize=(5,3))\n",
    "sns.boxplot(x='placement', y='iq', data=df)\n",
    "plt.title('Box Plot of Numerical Variable by Categorical Variable')\n",
    "plt.show()"
   ]
  },
  {
   "cell_type": "markdown",
   "id": "2df87a88-ffea-467d-8f33-ffe1351d5f1a",
   "metadata": {},
   "source": [
    "\n",
    "### **Key Findings:**\n",
    "- There is little to no difference in the median IQ scores between students who got placed and those who did not, indicating that IQ might not be a significant factor in placement outcomes.\n",
    "- Both groups show a similar spread of IQ scores, suggesting that the range of IQs is consistent across placed and non-placed students.\n",
    "- The presence of outliers in the non-placed category with very high IQ scores suggests that having a higher IQ does not necessarily guarantee placement."
   ]
  },
  {
   "cell_type": "code",
   "execution_count": 15,
   "id": "4cd79861-8b19-40c7-93c7-d7297615cbca",
   "metadata": {},
   "outputs": [
    {
     "data": {
      "text/plain": [
       "<matplotlib.collections.PathCollection at 0x1f96f2bc650>"
      ]
     },
     "execution_count": 15,
     "metadata": {},
     "output_type": "execute_result"
    },
    {
     "data": {
      "image/png": "[encoded data removed]",
      "text/plain": [
       "<Figure size 500x300 with 1 Axes>"
      ]
     },
     "metadata": {},
     "output_type": "display_data"
    }
   ],
   "source": [
    "import matplotlib.pyplot as plt\n",
    "plt.figure(figsize=(5,3))\n",
    "plt.scatter(df['cgpa'],df['iq'],c=df['placement'])"
   ]
  },
  {
   "cell_type": "markdown",
   "id": "5887a582-17ea-4172-b23b-e128a5dac09c",
   "metadata": {},
   "source": [
    "#  Extraction input and output cols."
   ]
  },
  {
   "cell_type": "code",
   "execution_count": 44,
   "id": "de17a5bb-682d-4946-8e3d-0e79d159725a",
   "metadata": {},
   "outputs": [],
   "source": [
    "X = df.iloc[:,0:2]   # indipendent variable cgpa & iq.\n",
    "y = df.iloc[:,-1]    # dependent variable placement."
   ]
  },
  {
   "cell_type": "markdown",
   "id": "92e70da0-2ef5-49ce-9ec8-fbe5978a8b0d",
   "metadata": {},
   "source": [
    "# Train test split."
   ]
  },
  {
   "cell_type": "code",
   "execution_count": 17,
   "id": "d2d9ef8d-d1ba-4a36-9fd0-e19e5f3b975b",
   "metadata": {},
   "outputs": [],
   "source": [
    "from sklearn.model_selection import train_test_split\n"
   ]
  },
  {
   "cell_type": "code",
   "execution_count": 18,
   "id": "3f325c3e-359d-47ce-b8e3-d18b0f560cd5",
   "metadata": {},
   "outputs": [],
   "source": [
    "X_train,X_test,y_train,y_test = train_test_split(X,y,test_size=0.1)"
   ]
  },
  {
   "cell_type": "code",
   "execution_count": 19,
   "id": "999207d2-38e0-4e8d-98ff-9022c0eb446c",
   "metadata": {},
   "outputs": [
    {
     "data": {
      "text/html": [
       "<div>\n",
       "<style scoped>\n",
       "    .dataframe tbody tr th:only-of-type {\n",
       "        vertical-align: middle;\n",
       "    }\n",
       "\n",
       "    .dataframe tbody tr th {\n",
       "        vertical-align: top;\n",
       "    }\n",
       "\n",
       "    .dataframe thead th {\n",
       "        text-align: right;\n",
       "    }\n",
       "</style>\n",
       "<table border=\"1\" class=\"dataframe\">\n",
       "  <thead>\n",
       "    <tr style=\"text-align: right;\">\n",
       "      <th></th>\n",
       "      <th>cgpa</th>\n",
       "      <th>iq</th>\n",
       "    </tr>\n",
       "  </thead>\n",
       "  <tbody>\n",
       "    <tr>\n",
       "      <th>3</th>\n",
       "      <td>7.4</td>\n",
       "      <td>132.0</td>\n",
       "    </tr>\n",
       "    <tr>\n",
       "      <th>84</th>\n",
       "      <td>5.7</td>\n",
       "      <td>169.0</td>\n",
       "    </tr>\n",
       "    <tr>\n",
       "      <th>41</th>\n",
       "      <td>5.4</td>\n",
       "      <td>114.0</td>\n",
       "    </tr>\n",
       "    <tr>\n",
       "      <th>46</th>\n",
       "      <td>5.3</td>\n",
       "      <td>114.0</td>\n",
       "    </tr>\n",
       "    <tr>\n",
       "      <th>47</th>\n",
       "      <td>5.2</td>\n",
       "      <td>161.0</td>\n",
       "    </tr>\n",
       "    <tr>\n",
       "      <th>...</th>\n",
       "      <td>...</td>\n",
       "      <td>...</td>\n",
       "    </tr>\n",
       "    <tr>\n",
       "      <th>63</th>\n",
       "      <td>6.3</td>\n",
       "      <td>128.0</td>\n",
       "    </tr>\n",
       "    <tr>\n",
       "      <th>7</th>\n",
       "      <td>5.0</td>\n",
       "      <td>63.0</td>\n",
       "    </tr>\n",
       "    <tr>\n",
       "      <th>13</th>\n",
       "      <td>6.4</td>\n",
       "      <td>116.0</td>\n",
       "    </tr>\n",
       "    <tr>\n",
       "      <th>20</th>\n",
       "      <td>6.6</td>\n",
       "      <td>120.0</td>\n",
       "    </tr>\n",
       "    <tr>\n",
       "      <th>8</th>\n",
       "      <td>6.1</td>\n",
       "      <td>156.0</td>\n",
       "    </tr>\n",
       "  </tbody>\n",
       "</table>\n",
       "<p>90 rows × 2 columns</p>\n",
       "</div>"
      ],
      "text/plain": [
       "    cgpa     iq\n",
       "3    7.4  132.0\n",
       "84   5.7  169.0\n",
       "41   5.4  114.0\n",
       "46   5.3  114.0\n",
       "47   5.2  161.0\n",
       "..   ...    ...\n",
       "63   6.3  128.0\n",
       "7    5.0   63.0\n",
       "13   6.4  116.0\n",
       "20   6.6  120.0\n",
       "8    6.1  156.0\n",
       "\n",
       "[90 rows x 2 columns]"
      ]
     },
     "execution_count": 19,
     "metadata": {},
     "output_type": "execute_result"
    }
   ],
   "source": [
    "X_train"
   ]
  },
  {
   "cell_type": "code",
   "execution_count": 20,
   "id": "b180e30c-afd0-4b12-a122-187dadd1fe77",
   "metadata": {},
   "outputs": [
    {
     "data": {
      "text/html": [
       "<div>\n",
       "<style scoped>\n",
       "    .dataframe tbody tr th:only-of-type {\n",
       "        vertical-align: middle;\n",
       "    }\n",
       "\n",
       "    .dataframe tbody tr th {\n",
       "        vertical-align: top;\n",
       "    }\n",
       "\n",
       "    .dataframe thead th {\n",
       "        text-align: right;\n",
       "    }\n",
       "</style>\n",
       "<table border=\"1\" class=\"dataframe\">\n",
       "  <thead>\n",
       "    <tr style=\"text-align: right;\">\n",
       "      <th></th>\n",
       "      <th>cgpa</th>\n",
       "      <th>iq</th>\n",
       "    </tr>\n",
       "  </thead>\n",
       "  <tbody>\n",
       "    <tr>\n",
       "      <th>78</th>\n",
       "      <td>6.1</td>\n",
       "      <td>81.0</td>\n",
       "    </tr>\n",
       "    <tr>\n",
       "      <th>34</th>\n",
       "      <td>4.8</td>\n",
       "      <td>163.0</td>\n",
       "    </tr>\n",
       "    <tr>\n",
       "      <th>5</th>\n",
       "      <td>7.1</td>\n",
       "      <td>48.0</td>\n",
       "    </tr>\n",
       "    <tr>\n",
       "      <th>66</th>\n",
       "      <td>6.9</td>\n",
       "      <td>96.0</td>\n",
       "    </tr>\n",
       "    <tr>\n",
       "      <th>81</th>\n",
       "      <td>5.4</td>\n",
       "      <td>107.0</td>\n",
       "    </tr>\n",
       "    <tr>\n",
       "      <th>26</th>\n",
       "      <td>7.0</td>\n",
       "      <td>199.0</td>\n",
       "    </tr>\n",
       "    <tr>\n",
       "      <th>22</th>\n",
       "      <td>4.9</td>\n",
       "      <td>120.0</td>\n",
       "    </tr>\n",
       "    <tr>\n",
       "      <th>58</th>\n",
       "      <td>8.0</td>\n",
       "      <td>79.0</td>\n",
       "    </tr>\n",
       "    <tr>\n",
       "      <th>23</th>\n",
       "      <td>4.7</td>\n",
       "      <td>87.0</td>\n",
       "    </tr>\n",
       "    <tr>\n",
       "      <th>79</th>\n",
       "      <td>6.5</td>\n",
       "      <td>90.0</td>\n",
       "    </tr>\n",
       "  </tbody>\n",
       "</table>\n",
       "</div>"
      ],
      "text/plain": [
       "    cgpa     iq\n",
       "78   6.1   81.0\n",
       "34   4.8  163.0\n",
       "5    7.1   48.0\n",
       "66   6.9   96.0\n",
       "81   5.4  107.0\n",
       "26   7.0  199.0\n",
       "22   4.9  120.0\n",
       "58   8.0   79.0\n",
       "23   4.7   87.0\n",
       "79   6.5   90.0"
      ]
     },
     "execution_count": 20,
     "metadata": {},
     "output_type": "execute_result"
    }
   ],
   "source": [
    "X_test"
   ]
  },
  {
   "cell_type": "markdown",
   "id": "b25db36a-ec23-4921-8343-532aa6dcb80b",
   "metadata": {},
   "source": [
    "# Scale the values."
   ]
  },
  {
   "cell_type": "code",
   "execution_count": 21,
   "id": "269cb401-1f50-4fbd-878f-03a167b40d51",
   "metadata": {},
   "outputs": [],
   "source": [
    "from sklearn.preprocessing import StandardScaler"
   ]
  },
  {
   "cell_type": "code",
   "execution_count": 22,
   "id": "ac00ec15-ce19-4955-a3de-aaf7dd9217df",
   "metadata": {},
   "outputs": [],
   "source": [
    "scaler = StandardScaler()"
   ]
  },
  {
   "cell_type": "code",
   "execution_count": 23,
   "id": "ffa49495-b452-4c0a-ac97-dd3745ec0a38",
   "metadata": {},
   "outputs": [],
   "source": [
    "X_train = scaler.fit_transform(X_train)"
   ]
  },
  {
   "cell_type": "code",
   "execution_count": 24,
   "id": "7a4723c4-0453-4fcb-a9a0-b1ad98ec554f",
   "metadata": {},
   "outputs": [
    {
     "data": {
      "text/plain": [
       "array([[ 1.24789094,  0.16835749],\n",
       "       [-0.24024089,  1.11536837],\n",
       "       [-0.50285239, -0.29235051],\n",
       "       [-0.59038956, -0.29235051],\n",
       "       [-0.67792672,  0.91060926],\n",
       "       [ 0.89774227, -1.57209495],\n",
       "       [ 0.81020511,  0.32192682],\n",
       "       [ 1.33542811, -1.64887961],\n",
       "       [ 0.72266794, -0.06199651],\n",
       "       [ 2.21079977, -0.13878117],\n",
       "       [-1.72837272, -0.65067895],\n",
       "       [-0.76546389,  0.06597794],\n",
       "       [ 0.19744494, -0.3179454 ],\n",
       "       [ 1.8606511 ,  1.03858371],\n",
       "       [ 0.02237061, -0.59948917],\n",
       "       [-0.50285239,  0.24514216],\n",
       "       [-2.34113288,  1.47369682],\n",
       "       [ 0.46005644, -2.26315694],\n",
       "       [ 0.10990778,  0.16835749],\n",
       "       [ 0.98527944,  0.65466038],\n",
       "       [-0.15270372,  1.03858371],\n",
       "       [ 0.46005644,  0.88501438],\n",
       "       [-0.76546389, -1.52090517],\n",
       "       [-0.85300106, -0.18997095],\n",
       "       [ 1.16035377,  0.29633193],\n",
       "       [ 1.33542811,  0.8338246 ],\n",
       "       [ 0.02237061, -1.52090517],\n",
       "       [ 1.8606511 ,  0.6034706 ],\n",
       "       [-1.37822405, -2.1351825 ],\n",
       "       [-0.76546389,  1.2945326 ],\n",
       "       [-0.94053822,  0.21954727],\n",
       "       [-1.37822405,  0.6034706 ],\n",
       "       [-0.06516656, -0.49710962],\n",
       "       [ 0.63513077,  1.44810193],\n",
       "       [-0.67792672, -0.90662784],\n",
       "       [ 0.02237061, -0.03640162],\n",
       "       [ 0.02237061, -2.05839783],\n",
       "       [ 1.16035377, -1.00900739],\n",
       "       [-2.16605855,  2.75344126],\n",
       "       [ 0.72266794, -0.34354028],\n",
       "       [ 0.46005644,  0.11716771],\n",
       "       [-0.94053822,  1.80643037],\n",
       "       [ 0.28498211,  0.04038305],\n",
       "       [-1.02807539, -0.34354028],\n",
       "       [ 0.89774227, -0.34354028],\n",
       "       [ 0.54759361,  0.32192682],\n",
       "       [-1.81590989, -0.42032495],\n",
       "       [-0.24024089,  0.3731166 ],\n",
       "       [-0.15270372,  0.42430638],\n",
       "       [-0.85300106, -0.88103295],\n",
       "       [ 1.16035377, -0.24116073],\n",
       "       [-0.94053822, -1.64887961],\n",
       "       [-1.46576122,  1.90880993],\n",
       "       [-0.94053822,  0.75703993],\n",
       "       [ 2.03572544,  1.08977349],\n",
       "       [ 1.33542811,  0.11716771],\n",
       "       [-1.20314972,  0.52668593],\n",
       "       [ 1.16035377, -1.93042339],\n",
       "       [-0.24024089,  0.44990127],\n",
       "       [ 0.63513077,  0.73144504],\n",
       "       [-1.72837272, -1.29055117],\n",
       "       [ 0.37251927,  0.39871149],\n",
       "       [-0.24024089,  0.16835749],\n",
       "       [ 0.02237061,  0.6034706 ],\n",
       "       [-1.11561255, -1.87923361],\n",
       "       [ 1.42296527,  0.06597794],\n",
       "       [-0.50285239,  0.34752171],\n",
       "       [ 0.28498211, -0.57389428],\n",
       "       [-0.67792672,  0.16835749],\n",
       "       [ 0.89774227,  0.34752171],\n",
       "       [ 1.59803961, -0.29235051],\n",
       "       [-1.02807539,  1.11536837],\n",
       "       [-0.59038956, -0.11318629],\n",
       "       [-1.11561255, -0.11318629],\n",
       "       [ 0.89774227,  1.26893771],\n",
       "       [ 0.72266794,  0.39871149],\n",
       "       [ 0.72266794, -0.90662784],\n",
       "       [ 1.42296527, -0.93222273],\n",
       "       [-0.94053822,  0.65466038],\n",
       "       [-0.67792672,  2.52308726],\n",
       "       [-1.02807539,  0.39871149],\n",
       "       [ 0.81020511,  0.34752171],\n",
       "       [ 0.10990778, -1.54650006],\n",
       "       [-0.67792672, -0.39473006],\n",
       "       [ 0.10990778, -0.57389428],\n",
       "       [ 0.28498211,  0.06597794],\n",
       "       [-0.85300106, -1.59768983],\n",
       "       [ 0.37251927, -0.24116073],\n",
       "       [ 0.54759361, -0.13878117],\n",
       "       [ 0.10990778,  0.78263482]])"
      ]
     },
     "execution_count": 24,
     "metadata": {},
     "output_type": "execute_result"
    }
   ],
   "source": [
    "X_train   # now X_train is transformed "
   ]
  },
  {
   "cell_type": "code",
   "execution_count": 25,
   "id": "24ef8fa2-4241-4dfe-9d44-8edb5db7adc1",
   "metadata": {},
   "outputs": [],
   "source": [
    "X_test = scaler.transform(X_test)"
   ]
  },
  {
   "cell_type": "code",
   "execution_count": 26,
   "id": "c216283f-65ec-4ff4-b7dd-7247881c4a52",
   "metadata": {},
   "outputs": [
    {
     "data": {
      "text/plain": [
       "array([[ 0.10990778, -1.13698184],\n",
       "       [-1.02807539,  0.96179904],\n",
       "       [ 0.98527944, -1.98161317],\n",
       "       [ 0.81020511, -0.75305851],\n",
       "       [-0.50285239, -0.47151473],\n",
       "       [ 0.89774227,  1.88321504],\n",
       "       [-0.94053822, -0.13878117],\n",
       "       [ 1.77311394, -1.18817161],\n",
       "       [-1.11561255, -0.9834125 ],\n",
       "       [ 0.46005644, -0.90662784]])"
      ]
     },
     "execution_count": 26,
     "metadata": {},
     "output_type": "execute_result"
    }
   ],
   "source": [
    "X_test   # Now X_test is transformed."
   ]
  },
  {
   "cell_type": "code",
   "execution_count": null,
   "id": "ea0b1b5b-6b5e-4570-b6c3-5b329e70a8ae",
   "metadata": {},
   "outputs": [],
   "source": []
  },
  {
   "cell_type": "code",
   "execution_count": 27,
   "id": "835c0868-2508-4700-b77f-fabde6db9f7e",
   "metadata": {},
   "outputs": [
    {
     "data": {
      "text/html": [
       "<style>#sk-container-id-1 {\n",
       "  /* Definition of color scheme common for light and dark mode */\n",
       "  --sklearn-color-text: black;\n",
       "  --sklearn-color-line: gray;\n",
       "  /* Definition of color scheme for unfitted estimators */\n",
       "  --sklearn-color-unfitted-level-0: #fff5e6;\n",
       "  --sklearn-color-unfitted-level-1: #f6e4d2;\n",
       "  --sklearn-color-unfitted-level-2: #ffe0b3;\n",
       "  --sklearn-color-unfitted-level-3: chocolate;\n",
       "  /* Definition of color scheme for fitted estimators */\n",
       "  --sklearn-color-fitted-level-0: #f0f8ff;\n",
       "  --sklearn-color-fitted-level-1: #d4ebff;\n",
       "  --sklearn-color-fitted-level-2: #b3dbfd;\n",
       "  --sklearn-color-fitted-level-3: cornflowerblue;\n",
       "\n",
       "  /* Specific color for light theme */\n",
       "  --sklearn-color-text-on-default-background: var(--sg-text-color, var(--theme-code-foreground, var(--jp-content-font-color1, black)));\n",
       "  --sklearn-color-background: var(--sg-background-color, var(--theme-background, var(--jp-layout-color0, white)));\n",
       "  --sklearn-color-border-box: var(--sg-text-color, var(--theme-code-foreground, var(--jp-content-font-color1, black)));\n",
       "  --sklearn-color-icon: #696969;\n",
       "\n",
       "  @media (prefers-color-scheme: dark) {\n",
       "    /* Redefinition of color scheme for dark theme */\n",
       "    --sklearn-color-text-on-default-background: var(--sg-text-color, var(--theme-code-foreground, var(--jp-content-font-color1, white)));\n",
       "    --sklearn-color-background: var(--sg-background-color, var(--theme-background, var(--jp-layout-color0, #111)));\n",
       "    --sklearn-color-border-box: var(--sg-text-color, var(--theme-code-foreground, var(--jp-content-font-color1, white)));\n",
       "    --sklearn-color-icon: #878787;\n",
       "  }\n",
       "}\n",
       "\n",
       "#sk-container-id-1 {\n",
       "  color: var(--sklearn-color-text);\n",
       "}\n",
       "\n",
       "#sk-container-id-1 pre {\n",
       "  padding: 0;\n",
       "}\n",
       "\n",
       "#sk-container-id-1 input.sk-hidden--visually {\n",
       "  border: 0;\n",
       "  clip: rect(1px 1px 1px 1px);\n",
       "  clip: rect(1px, 1px, 1px, 1px);\n",
       "  height: 1px;\n",
       "  margin: -1px;\n",
       "  overflow: hidden;\n",
       "  padding: 0;\n",
       "  position: absolute;\n",
       "  width: 1px;\n",
       "}\n",
       "\n",
       "#sk-container-id-1 div.sk-dashed-wrapped {\n",
       "  border: 1px dashed var(--sklearn-color-line);\n",
       "  margin: 0 0.4em 0.5em 0.4em;\n",
       "  box-sizing: border-box;\n",
       "  padding-bottom: 0.4em;\n",
       "  background-color: var(--sklearn-color-background);\n",
       "}\n",
       "\n",
       "#sk-container-id-1 div.sk-container {\n",
       "  /* jupyter's `normalize.less` sets `[hidden] { display: none; }`\n",
       "     but bootstrap.min.css set `[hidden] { display: none !important; }`\n",
       "     so we also need the `!important` here to be able to override the\n",
       "     default hidden behavior on the sphinx rendered scikit-learn.org.\n",
       "     See: https://github.com/scikit-learn/scikit-learn/issues/21755 */\n",
       "  display: inline-block !important;\n",
       "  position: relative;\n",
       "}\n",
       "\n",
       "#sk-container-id-1 div.sk-text-repr-fallback {\n",
       "  display: none;\n",
       "}\n",
       "\n",
       "div.sk-parallel-item,\n",
       "div.sk-serial,\n",
       "div.sk-item {\n",
       "  /* draw centered vertical line to link estimators */\n",
       "  background-image: linear-gradient(var(--sklearn-color-text-on-default-background), var(--sklearn-color-text-on-default-background));\n",
       "  background-size: 2px 100%;\n",
       "  background-repeat: no-repeat;\n",
       "  background-position: center center;\n",
       "}\n",
       "\n",
       "/* Parallel-specific style estimator block */\n",
       "\n",
       "#sk-container-id-1 div.sk-parallel-item::after {\n",
       "  content: \"\";\n",
       "  width: 100%;\n",
       "  border-bottom: 2px solid var(--sklearn-color-text-on-default-background);\n",
       "  flex-grow: 1;\n",
       "}\n",
       "\n",
       "#sk-container-id-1 div.sk-parallel {\n",
       "  display: flex;\n",
       "  align-items: stretch;\n",
       "  justify-content: center;\n",
       "  background-color: var(--sklearn-color-background);\n",
       "  position: relative;\n",
       "}\n",
       "\n",
       "#sk-container-id-1 div.sk-parallel-item {\n",
       "  display: flex;\n",
       "  flex-direction: column;\n",
       "}\n",
       "\n",
       "#sk-container-id-1 div.sk-parallel-item:first-child::after {\n",
       "  align-self: flex-end;\n",
       "  width: 50%;\n",
       "}\n",
       "\n",
       "#sk-container-id-1 div.sk-parallel-item:last-child::after {\n",
       "  align-self: flex-start;\n",
       "  width: 50%;\n",
       "}\n",
       "\n",
       "#sk-container-id-1 div.sk-parallel-item:only-child::after {\n",
       "  width: 0;\n",
       "}\n",
       "\n",
       "/* Serial-specific style estimator block */\n",
       "\n",
       "#sk-container-id-1 div.sk-serial {\n",
       "  display: flex;\n",
       "  flex-direction: column;\n",
       "  align-items: center;\n",
       "  background-color: var(--sklearn-color-background);\n",
       "  padding-right: 1em;\n",
       "  padding-left: 1em;\n",
       "}\n",
       "\n",
       "\n",
       "/* Toggleable style: style used for estimator/Pipeline/ColumnTransformer box that is\n",
       "clickable and can be expanded/collapsed.\n",
       "- Pipeline and ColumnTransformer use this feature and define the default style\n",
       "- Estimators will overwrite some part of the style using the `sk-estimator` class\n",
       "*/\n",
       "\n",
       "/* Pipeline and ColumnTransformer style (default) */\n",
       "\n",
       "#sk-container-id-1 div.sk-toggleable {\n",
       "  /* Default theme specific background. It is overwritten whether we have a\n",
       "  specific estimator or a Pipeline/ColumnTransformer */\n",
       "  background-color: var(--sklearn-color-background);\n",
       "}\n",
       "\n",
       "/* Toggleable label */\n",
       "#sk-container-id-1 label.sk-toggleable__label {\n",
       "  cursor: pointer;\n",
       "  display: block;\n",
       "  width: 100%;\n",
       "  margin-bottom: 0;\n",
       "  padding: 0.5em;\n",
       "  box-sizing: border-box;\n",
       "  text-align: center;\n",
       "}\n",
       "\n",
       "#sk-container-id-1 label.sk-toggleable__label-arrow:before {\n",
       "  /* Arrow on the left of the label */\n",
       "  content: \"▸\";\n",
       "  float: left;\n",
       "  margin-right: 0.25em;\n",
       "  color: var(--sklearn-color-icon);\n",
       "}\n",
       "\n",
       "#sk-container-id-1 label.sk-toggleable__label-arrow:hover:before {\n",
       "  color: var(--sklearn-color-text);\n",
       "}\n",
       "\n",
       "/* Toggleable content - dropdown */\n",
       "\n",
       "#sk-container-id-1 div.sk-toggleable__content {\n",
       "  max-height: 0;\n",
       "  max-width: 0;\n",
       "  overflow: hidden;\n",
       "  text-align: left;\n",
       "  /* unfitted */\n",
       "  background-color: var(--sklearn-color-unfitted-level-0);\n",
       "}\n",
       "\n",
       "#sk-container-id-1 div.sk-toggleable__content.fitted {\n",
       "  /* fitted */\n",
       "  background-color: var(--sklearn-color-fitted-level-0);\n",
       "}\n",
       "\n",
       "#sk-container-id-1 div.sk-toggleable__content pre {\n",
       "  margin: 0.2em;\n",
       "  border-radius: 0.25em;\n",
       "  color: var(--sklearn-color-text);\n",
       "  /* unfitted */\n",
       "  background-color: var(--sklearn-color-unfitted-level-0);\n",
       "}\n",
       "\n",
       "#sk-container-id-1 div.sk-toggleable__content.fitted pre {\n",
       "  /* unfitted */\n",
       "  background-color: var(--sklearn-color-fitted-level-0);\n",
       "}\n",
       "\n",
       "#sk-container-id-1 input.sk-toggleable__control:checked~div.sk-toggleable__content {\n",
       "  /* Expand drop-down */\n",
       "  max-height: 200px;\n",
       "  max-width: 100%;\n",
       "  overflow: auto;\n",
       "}\n",
       "\n",
       "#sk-container-id-1 input.sk-toggleable__control:checked~label.sk-toggleable__label-arrow:before {\n",
       "  content: \"▾\";\n",
       "}\n",
       "\n",
       "/* Pipeline/ColumnTransformer-specific style */\n",
       "\n",
       "#sk-container-id-1 div.sk-label input.sk-toggleable__control:checked~label.sk-toggleable__label {\n",
       "  color: var(--sklearn-color-text);\n",
       "  background-color: var(--sklearn-color-unfitted-level-2);\n",
       "}\n",
       "\n",
       "#sk-container-id-1 div.sk-label.fitted input.sk-toggleable__control:checked~label.sk-toggleable__label {\n",
       "  background-color: var(--sklearn-color-fitted-level-2);\n",
       "}\n",
       "\n",
       "/* Estimator-specific style */\n",
       "\n",
       "/* Colorize estimator box */\n",
       "#sk-container-id-1 div.sk-estimator input.sk-toggleable__control:checked~label.sk-toggleable__label {\n",
       "  /* unfitted */\n",
       "  background-color: var(--sklearn-color-unfitted-level-2);\n",
       "}\n",
       "\n",
       "#sk-container-id-1 div.sk-estimator.fitted input.sk-toggleable__control:checked~label.sk-toggleable__label {\n",
       "  /* fitted */\n",
       "  background-color: var(--sklearn-color-fitted-level-2);\n",
       "}\n",
       "\n",
       "#sk-container-id-1 div.sk-label label.sk-toggleable__label,\n",
       "#sk-container-id-1 div.sk-label label {\n",
       "  /* The background is the default theme color */\n",
       "  color: var(--sklearn-color-text-on-default-background);\n",
       "}\n",
       "\n",
       "/* On hover, darken the color of the background */\n",
       "#sk-container-id-1 div.sk-label:hover label.sk-toggleable__label {\n",
       "  color: var(--sklearn-color-text);\n",
       "  background-color: var(--sklearn-color-unfitted-level-2);\n",
       "}\n",
       "\n",
       "/* Label box, darken color on hover, fitted */\n",
       "#sk-container-id-1 div.sk-label.fitted:hover label.sk-toggleable__label.fitted {\n",
       "  color: var(--sklearn-color-text);\n",
       "  background-color: var(--sklearn-color-fitted-level-2);\n",
       "}\n",
       "\n",
       "/* Estimator label */\n",
       "\n",
       "#sk-container-id-1 div.sk-label label {\n",
       "  font-family: monospace;\n",
       "  font-weight: bold;\n",
       "  display: inline-block;\n",
       "  line-height: 1.2em;\n",
       "}\n",
       "\n",
       "#sk-container-id-1 div.sk-label-container {\n",
       "  text-align: center;\n",
       "}\n",
       "\n",
       "/* Estimator-specific */\n",
       "#sk-container-id-1 div.sk-estimator {\n",
       "  font-family: monospace;\n",
       "  border: 1px dotted var(--sklearn-color-border-box);\n",
       "  border-radius: 0.25em;\n",
       "  box-sizing: border-box;\n",
       "  margin-bottom: 0.5em;\n",
       "  /* unfitted */\n",
       "  background-color: var(--sklearn-color-unfitted-level-0);\n",
       "}\n",
       "\n",
       "#sk-container-id-1 div.sk-estimator.fitted {\n",
       "  /* fitted */\n",
       "  background-color: var(--sklearn-color-fitted-level-0);\n",
       "}\n",
       "\n",
       "/* on hover */\n",
       "#sk-container-id-1 div.sk-estimator:hover {\n",
       "  /* unfitted */\n",
       "  background-color: var(--sklearn-color-unfitted-level-2);\n",
       "}\n",
       "\n",
       "#sk-container-id-1 div.sk-estimator.fitted:hover {\n",
       "  /* fitted */\n",
       "  background-color: var(--sklearn-color-fitted-level-2);\n",
       "}\n",
       "\n",
       "/* Specification for estimator info (e.g. \"i\" and \"?\") */\n",
       "\n",
       "/* Common style for \"i\" and \"?\" */\n",
       "\n",
       ".sk-estimator-doc-link,\n",
       "a:link.sk-estimator-doc-link,\n",
       "a:visited.sk-estimator-doc-link {\n",
       "  float: right;\n",
       "  font-size: smaller;\n",
       "  line-height: 1em;\n",
       "  font-family: monospace;\n",
       "  background-color: var(--sklearn-color-background);\n",
       "  border-radius: 1em;\n",
       "  height: 1em;\n",
       "  width: 1em;\n",
       "  text-decoration: none !important;\n",
       "  margin-left: 1ex;\n",
       "  /* unfitted */\n",
       "  border: var(--sklearn-color-unfitted-level-1) 1pt solid;\n",
       "  color: var(--sklearn-color-unfitted-level-1);\n",
       "}\n",
       "\n",
       ".sk-estimator-doc-link.fitted,\n",
       "a:link.sk-estimator-doc-link.fitted,\n",
       "a:visited.sk-estimator-doc-link.fitted {\n",
       "  /* fitted */\n",
       "  border: var(--sklearn-color-fitted-level-1) 1pt solid;\n",
       "  color: var(--sklearn-color-fitted-level-1);\n",
       "}\n",
       "\n",
       "/* On hover */\n",
       "div.sk-estimator:hover .sk-estimator-doc-link:hover,\n",
       ".sk-estimator-doc-link:hover,\n",
       "div.sk-label-container:hover .sk-estimator-doc-link:hover,\n",
       ".sk-estimator-doc-link:hover {\n",
       "  /* unfitted */\n",
       "  background-color: var(--sklearn-color-unfitted-level-3);\n",
       "  color: var(--sklearn-color-background);\n",
       "  text-decoration: none;\n",
       "}\n",
       "\n",
       "div.sk-estimator.fitted:hover .sk-estimator-doc-link.fitted:hover,\n",
       ".sk-estimator-doc-link.fitted:hover,\n",
       "div.sk-label-container:hover .sk-estimator-doc-link.fitted:hover,\n",
       ".sk-estimator-doc-link.fitted:hover {\n",
       "  /* fitted */\n",
       "  background-color: var(--sklearn-color-fitted-level-3);\n",
       "  color: var(--sklearn-color-background);\n",
       "  text-decoration: none;\n",
       "}\n",
       "\n",
       "/* Span, style for the box shown on hovering the info icon */\n",
       ".sk-estimator-doc-link span {\n",
       "  display: none;\n",
       "  z-index: 9999;\n",
       "  position: relative;\n",
       "  font-weight: normal;\n",
       "  right: .2ex;\n",
       "  padding: .5ex;\n",
       "  margin: .5ex;\n",
       "  width: min-content;\n",
       "  min-width: 20ex;\n",
       "  max-width: 50ex;\n",
       "  color: var(--sklearn-color-text);\n",
       "  box-shadow: 2pt 2pt 4pt #999;\n",
       "  /* unfitted */\n",
       "  background: var(--sklearn-color-unfitted-level-0);\n",
       "  border: .5pt solid var(--sklearn-color-unfitted-level-3);\n",
       "}\n",
       "\n",
       ".sk-estimator-doc-link.fitted span {\n",
       "  /* fitted */\n",
       "  background: var(--sklearn-color-fitted-level-0);\n",
       "  border: var(--sklearn-color-fitted-level-3);\n",
       "}\n",
       "\n",
       ".sk-estimator-doc-link:hover span {\n",
       "  display: block;\n",
       "}\n",
       "\n",
       "/* \"?\"-specific style due to the `<a>` HTML tag */\n",
       "\n",
       "#sk-container-id-1 a.estimator_doc_link {\n",
       "  float: right;\n",
       "  font-size: 1rem;\n",
       "  line-height: 1em;\n",
       "  font-family: monospace;\n",
       "  background-color: var(--sklearn-color-background);\n",
       "  border-radius: 1rem;\n",
       "  height: 1rem;\n",
       "  width: 1rem;\n",
       "  text-decoration: none;\n",
       "  /* unfitted */\n",
       "  color: var(--sklearn-color-unfitted-level-1);\n",
       "  border: var(--sklearn-color-unfitted-level-1) 1pt solid;\n",
       "}\n",
       "\n",
       "#sk-container-id-1 a.estimator_doc_link.fitted {\n",
       "  /* fitted */\n",
       "  border: var(--sklearn-color-fitted-level-1) 1pt solid;\n",
       "  color: var(--sklearn-color-fitted-level-1);\n",
       "}\n",
       "\n",
       "/* On hover */\n",
       "#sk-container-id-1 a.estimator_doc_link:hover {\n",
       "  /* unfitted */\n",
       "  background-color: var(--sklearn-color-unfitted-level-3);\n",
       "  color: var(--sklearn-color-background);\n",
       "  text-decoration: none;\n",
       "}\n",
       "\n",
       "#sk-container-id-1 a.estimator_doc_link.fitted:hover {\n",
       "  /* fitted */\n",
       "  background-color: var(--sklearn-color-fitted-level-3);\n",
       "}\n",
       "</style><div id=\"sk-container-id-1\" class=\"sk-top-container\"><div class=\"sk-text-repr-fallback\"><pre>LogisticRegression()</pre><b>In a Jupyter environment, please rerun this cell to show the HTML representation or trust the notebook. <br />On GitHub, the HTML representation is unable to render, please try loading this page with nbviewer.org.</b></div><div class=\"sk-container\" hidden><div class=\"sk-item\"><div class=\"sk-estimator fitted sk-toggleable\"><input class=\"sk-toggleable__control sk-hidden--visually\" id=\"sk-estimator-id-1\" type=\"checkbox\" checked><label for=\"sk-estimator-id-1\" class=\"sk-toggleable__label fitted sk-toggleable__label-arrow fitted\">&nbsp;&nbsp;LogisticRegression<a class=\"sk-estimator-doc-link fitted\" rel=\"noreferrer\" target=\"_blank\" href=\"https://scikit-learn.org/1.4/modules/generated/sklearn.linear_model.LogisticRegression.html\">?<span>Documentation for LogisticRegression</span></a><span class=\"sk-estimator-doc-link fitted\">i<span>Fitted</span></span></label><div class=\"sk-toggleable__content fitted\"><pre>LogisticRegression()</pre></div> </div></div></div></div>"
      ],
      "text/plain": [
       "LogisticRegression()"
      ]
     },
     "execution_count": 27,
     "metadata": {},
     "output_type": "execute_result"
    }
   ],
   "source": [
    "from sklearn.linear_model import LogisticRegression\n",
    "clf = LogisticRegression()\n",
    "clf.fit(X_train,y_train)  # now train the train dataset of independent and dependent variable."
   ]
  },
  {
   "cell_type": "code",
   "execution_count": 28,
   "id": "dbafe3e7-35c5-4db5-96e3-6a9ca6f8e5d0",
   "metadata": {},
   "outputs": [
    {
     "data": {
      "text/plain": [
       "array([1, 0, 1, 1, 0, 1, 0, 1, 0, 1], dtype=int64)"
      ]
     },
     "execution_count": 28,
     "metadata": {},
     "output_type": "execute_result"
    }
   ],
   "source": [
    "y_pred = clf.predict(X_test)   # predited \n",
    "y_pred"
   ]
  },
  {
   "cell_type": "code",
   "execution_count": 29,
   "id": "23015fd2-f6c6-4972-9514-3ed6b44b3d6c",
   "metadata": {},
   "outputs": [
    {
     "data": {
      "text/plain": [
       "78    0\n",
       "34    0\n",
       "5     1\n",
       "66    1\n",
       "81    0\n",
       "26    1\n",
       "22    0\n",
       "58    1\n",
       "23    0\n",
       "79    1\n",
       "Name: placement, dtype: int64"
      ]
     },
     "execution_count": 29,
     "metadata": {},
     "output_type": "execute_result"
    }
   ],
   "source": [
    "y_test"
   ]
  },
  {
   "cell_type": "markdown",
   "id": "402fce8b-2b93-4a6c-a728-4806fda6c1bc",
   "metadata": {},
   "source": [
    "# Evalutae the model"
   ]
  },
  {
   "cell_type": "code",
   "execution_count": 30,
   "id": "e516bbf5-65a2-43ef-9c03-967663fe8dae",
   "metadata": {},
   "outputs": [
    {
     "data": {
      "text/plain": [
       "0.9"
      ]
     },
     "execution_count": 30,
     "metadata": {},
     "output_type": "execute_result"
    }
   ],
   "source": [
    "from sklearn.metrics import accuracy_score\n",
    "\n",
    "accuracy_score(y_test,y_pred)"
   ]
  },
  {
   "cell_type": "markdown",
   "id": "953378e3-f01c-4341-a52b-e2a9f47cef8b",
   "metadata": {},
   "source": [
    "# Our model have  90% accuracy in prediction."
   ]
  },
  {
   "cell_type": "markdown",
   "id": "6c56513a-ab82-41c7-9ece-6bd9957595a5",
   "metadata": {},
   "source": [
    "# Exporting the model. "
   ]
  },
  {
   "cell_type": "code",
   "execution_count": 31,
   "id": "ef294717-b163-4e0e-b241-c794d84435b6",
   "metadata": {},
   "outputs": [],
   "source": [
    "import pickle    # convert object clf into file model.pkl"
   ]
  },
  {
   "cell_type": "code",
   "execution_count": 32,
   "id": "9e91660d-a88b-45c2-8735-9a2fbd7e3e5e",
   "metadata": {},
   "outputs": [],
   "source": [
    "pickle.dump(clf,open('model.pkl','wb'))"
   ]
  },
  {
   "cell_type": "code",
   "execution_count": null,
   "id": "b39fc751-6dee-419c-999b-517a3a77a536",
   "metadata": {},
   "outputs": [],
   "source": []
  }
 ],
 "metadata": {
  "kernelspec": {
   "display_name": "Python 3 (ipykernel)",
   "language": "python",
   "name": "python3"
  },
  "language_info": {
   "codemirror_mode": {
    "name": "ipython",
    "version": 3
   },
   "file_extension": ".py",
   "mimetype": "text/x-python",
   "name": "python",
   "nbconvert_exporter": "python",
   "pygments_lexer": "ipython3",
   "version": "3.12.4"
  }
 },
 "nbformat": 4,
 "nbformat_minor": 5
}
